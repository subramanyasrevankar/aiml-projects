{
  "nbformat": 4,
  "nbformat_minor": 0,
  "metadata": {
    "colab": {
      "provenance": []
    },
    "kernelspec": {
      "name": "python3",
      "display_name": "Python 3"
    },
    "language_info": {
      "name": "python"
    }
  },
  "cells": [
    {
      "cell_type": "code",
      "execution_count": 2,
      "metadata": {
        "id": "o8BKguVz4RzL"
      },
      "outputs": [],
      "source": [
        "import pandas as pd\n",
        "import string\n",
        "import re\n",
        "from nltk.corpus import stopwords\n",
        "from nltk.stem import PorterStemmer\n",
        "import nltk\n",
        "from sklearn.feature_extraction.text import TfidfVectorizer\n",
        "from sklearn.model_selection import train_test_split\n",
        "from sklearn.metrics import accuracy_score,classification_report,confusion_matrix\n",
        "from sklearn.naive_bayes import MultinomialNB"
      ]
    },
    {
      "cell_type": "code",
      "source": [
        "df=pd.read_csv('spam.csv',encoding='latin-1')\n",
        "df=df[['v1','v2']]\n",
        "print(df.head())\n",
        "df.columns=['label','message']\n",
        "print(df.head())\n",
        "df['label']=df['label'].map({'ham':0,'spam':1})\n",
        "nltk.download('stopwords')\n",
        "stemmer=PorterStemmer()\n",
        "stop_words=set(stopwords.words('english'))\n",
        "# print(df['label'].head())\n",
        "def clean_text(text):\n",
        "   text=text.lower()\n",
        "   text=text.translate(str.maketrans(\"\",\"\",string.punctuation))\n",
        "   tex=re.sub(r'\\d+',\"\",text)\n",
        "   words=text.split()\n",
        "   words=[stemmer.stem(word)for word in words if word not in stop_words]\n",
        "   return \" \".join(words)\n",
        "\n"
      ],
      "metadata": {
        "colab": {
          "base_uri": "https://localhost:8080/"
        },
        "id": "IfkQHF4z7HuR",
        "outputId": "d0b9c95b-7659-48fe-e87d-6ce60023f8ed"
      },
      "execution_count": 11,
      "outputs": [
        {
          "output_type": "stream",
          "name": "stdout",
          "text": [
            "     v1                                                 v2\n",
            "0   ham  Go until jurong point, crazy.. Available only ...\n",
            "1   ham                      Ok lar... Joking wif u oni...\n",
            "2  spam  Free entry in 2 a wkly comp to win FA Cup fina...\n",
            "3   ham  U dun say so early hor... U c already then say...\n",
            "4   ham  Nah I don't think he goes to usf, he lives aro...\n",
            "  label                                            message\n",
            "0   ham  Go until jurong point, crazy.. Available only ...\n",
            "1   ham                      Ok lar... Joking wif u oni...\n",
            "2  spam  Free entry in 2 a wkly comp to win FA Cup fina...\n",
            "3   ham  U dun say so early hor... U c already then say...\n",
            "4   ham  Nah I don't think he goes to usf, he lives aro...\n"
          ]
        },
        {
          "output_type": "stream",
          "name": "stderr",
          "text": [
            "[nltk_data] Downloading package stopwords to /root/nltk_data...\n",
            "[nltk_data]   Unzipping corpora/stopwords.zip.\n"
          ]
        }
      ]
    },
    {
      "cell_type": "code",
      "source": [
        "df['clean_message']=df['message'].apply(clean_text)\n",
        "print(df['clean_message'].head())"
      ],
      "metadata": {
        "colab": {
          "base_uri": "https://localhost:8080/"
        },
        "id": "FyCJogdQDcJz",
        "outputId": "b21ac384-7230-4a72-a7bb-e5b1a275391d"
      },
      "execution_count": 13,
      "outputs": [
        {
          "output_type": "stream",
          "name": "stdout",
          "text": [
            "0    go jurong point crazi avail bugi n great world...\n",
            "1                                ok lar joke wif u oni\n",
            "2    free entri 2 wkli comp win fa cup final tkt 21...\n",
            "3                  u dun say earli hor u c alreadi say\n",
            "4            nah dont think goe usf live around though\n",
            "Name: clean_message, dtype: object\n"
          ]
        }
      ]
    },
    {
      "cell_type": "code",
      "source": [
        "model=TfidfVectorizer()\n",
        "x=model.fit_transform(df['clean_message'])\n",
        "y=df['label']\n",
        "x_train,x_test,y_train,y_test=train_test_split(x,y,test_size=0.2,random_state=42)\n",
        "real_model=MultinomialNB()\n",
        "real_model.fit(x_train,y_train)\n",
        "pred=real_model.predict(x_test)\n",
        "print(\"The accuracy is :\",accuracy_score(y_test,pred))"
      ],
      "metadata": {
        "colab": {
          "base_uri": "https://localhost:8080/"
        },
        "id": "S0RqUZKvEElf",
        "outputId": "dbeb1c9f-239e-4ed6-d0a0-2ebb2028c42a"
      },
      "execution_count": 17,
      "outputs": [
        {
          "output_type": "stream",
          "name": "stdout",
          "text": [
            "The accuracy is : 0.9614349775784753\n"
          ]
        }
      ]
    }
  ]
}