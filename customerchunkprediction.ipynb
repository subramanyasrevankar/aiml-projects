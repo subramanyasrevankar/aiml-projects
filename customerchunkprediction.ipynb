{
  "nbformat": 4,
  "nbformat_minor": 0,
  "metadata": {
    "colab": {
      "provenance": []
    },
    "kernelspec": {
      "name": "python3",
      "display_name": "Python 3"
    },
    "language_info": {
      "name": "python"
    }
  },
  "cells": [
    {
      "cell_type": "code",
      "execution_count": 2,
      "metadata": {
        "id": "faIRwuUFUfGj"
      },
      "outputs": [],
      "source": [
        "import pandas as pd\n",
        "from sklearn.model_selection import train_test_split\n",
        "from sklearn.preprocessing import StandardScaler\n",
        "from sklearn.ensemble import RandomForestClassifier\n",
        "from sklearn.metrics import accuracy_score, classification_report, confusion_matrix"
      ]
    },
    {
      "cell_type": "code",
      "source": [
        "df=pd.read_csv('WA_Fn-UseC_-Telco-Customer-Churn.csv')\n",
        "print(df.head())"
      ],
      "metadata": {
        "colab": {
          "base_uri": "https://localhost:8080/"
        },
        "id": "F54w5c2xVqon",
        "outputId": "e74e195b-d80d-494d-e5af-0a60562f3696"
      },
      "execution_count": 49,
      "outputs": [
        {
          "output_type": "stream",
          "name": "stdout",
          "text": [
            "   customerID  gender  SeniorCitizen Partner Dependents  tenure PhoneService  \\\n",
            "0  7590-VHVEG  Female              0     Yes         No       1           No   \n",
            "1  5575-GNVDE    Male              0      No         No      34          Yes   \n",
            "2  3668-QPYBK    Male              0      No         No       2          Yes   \n",
            "3  7795-CFOCW    Male              0      No         No      45           No   \n",
            "4  9237-HQITU  Female              0      No         No       2          Yes   \n",
            "\n",
            "      MultipleLines InternetService OnlineSecurity  ... DeviceProtection  \\\n",
            "0  No phone service             DSL             No  ...               No   \n",
            "1                No             DSL            Yes  ...              Yes   \n",
            "2                No             DSL            Yes  ...               No   \n",
            "3  No phone service             DSL            Yes  ...              Yes   \n",
            "4                No     Fiber optic             No  ...               No   \n",
            "\n",
            "  TechSupport StreamingTV StreamingMovies        Contract PaperlessBilling  \\\n",
            "0          No          No              No  Month-to-month              Yes   \n",
            "1          No          No              No        One year               No   \n",
            "2          No          No              No  Month-to-month              Yes   \n",
            "3         Yes          No              No        One year               No   \n",
            "4          No          No              No  Month-to-month              Yes   \n",
            "\n",
            "               PaymentMethod MonthlyCharges  TotalCharges Churn  \n",
            "0           Electronic check          29.85         29.85    No  \n",
            "1               Mailed check          56.95        1889.5    No  \n",
            "2               Mailed check          53.85        108.15   Yes  \n",
            "3  Bank transfer (automatic)          42.30       1840.75    No  \n",
            "4           Electronic check          70.70        151.65   Yes  \n",
            "\n",
            "[5 rows x 21 columns]\n"
          ]
        }
      ]
    },
    {
      "cell_type": "code",
      "source": [
        "df = df.drop(columns=['customerID','PaymentMethod','Contract','PaperlessBilling','InternetService','OnlineSecurity','TechSupport','StreamingMovies','DeviceProtection','MultipleLines'])"
      ],
      "metadata": {
        "id": "oJCIuN9RZheu"
      },
      "execution_count": 50,
      "outputs": []
    },
    {
      "cell_type": "markdown",
      "source": [],
      "metadata": {
        "id": "ZinsA-WQf0O_"
      }
    },
    {
      "cell_type": "code",
      "source": [
        "binary_cols=['gender','Partner','Dependents','PhoneService','OnlineBackup','StreamingTV','Churn']\n",
        "for col in binary_cols:\n",
        "  df[col]=df[col].map({'Female':0,'Male':1,'Yes':1,'No':0})\n",
        "print(df)"
      ],
      "metadata": {
        "colab": {
          "base_uri": "https://localhost:8080/"
        },
        "id": "kjG_bCKkavQh",
        "outputId": "f4e31226-5f4d-4202-bc31-0f657645f954"
      },
      "execution_count": 26,
      "outputs": [
        {
          "output_type": "stream",
          "name": "stdout",
          "text": [
            "      customerID  gender  SeniorCitizen  Partner  Dependents  tenure  \\\n",
            "0     7590-VHVEG       0              0        1           0       1   \n",
            "1     5575-GNVDE       1              0        0           0      34   \n",
            "2     3668-QPYBK       1              0        0           0       2   \n",
            "3     7795-CFOCW       1              0        0           0      45   \n",
            "4     9237-HQITU       0              0        0           0       2   \n",
            "...          ...     ...            ...      ...         ...     ...   \n",
            "7038  6840-RESVB       1              0        1           1      24   \n",
            "7039  2234-XADUH       0              0        1           1      72   \n",
            "7040  4801-JZAZL       0              0        1           1      11   \n",
            "7041  8361-LTMKD       1              1        1           0       4   \n",
            "7042  3186-AJIEK       1              0        0           0      66   \n",
            "\n",
            "      PhoneService     MultipleLines InternetService OnlineSecurity  ...  \\\n",
            "0                0  No phone service             DSL             No  ...   \n",
            "1                1                No             DSL            Yes  ...   \n",
            "2                1                No             DSL            Yes  ...   \n",
            "3                0  No phone service             DSL            Yes  ...   \n",
            "4                1                No     Fiber optic             No  ...   \n",
            "...            ...               ...             ...            ...  ...   \n",
            "7038             1               Yes             DSL            Yes  ...   \n",
            "7039             1               Yes     Fiber optic             No  ...   \n",
            "7040             0  No phone service             DSL            Yes  ...   \n",
            "7041             1               Yes     Fiber optic             No  ...   \n",
            "7042             1                No     Fiber optic            Yes  ...   \n",
            "\n",
            "      DeviceProtection TechSupport StreamingTV  StreamingMovies  \\\n",
            "0                   No          No         0.0               No   \n",
            "1                  Yes          No         0.0               No   \n",
            "2                   No          No         0.0               No   \n",
            "3                  Yes         Yes         0.0               No   \n",
            "4                   No          No         0.0               No   \n",
            "...                ...         ...         ...              ...   \n",
            "7038               Yes         Yes         1.0              Yes   \n",
            "7039               Yes          No         1.0              Yes   \n",
            "7040                No          No         0.0               No   \n",
            "7041                No          No         0.0               No   \n",
            "7042               Yes         Yes         1.0              Yes   \n",
            "\n",
            "            Contract PaperlessBilling              PaymentMethod  \\\n",
            "0     Month-to-month              Yes           Electronic check   \n",
            "1           One year               No               Mailed check   \n",
            "2     Month-to-month              Yes               Mailed check   \n",
            "3           One year               No  Bank transfer (automatic)   \n",
            "4     Month-to-month              Yes           Electronic check   \n",
            "...              ...              ...                        ...   \n",
            "7038        One year              Yes               Mailed check   \n",
            "7039        One year              Yes    Credit card (automatic)   \n",
            "7040  Month-to-month              Yes           Electronic check   \n",
            "7041  Month-to-month              Yes               Mailed check   \n",
            "7042        Two year              Yes  Bank transfer (automatic)   \n",
            "\n",
            "     MonthlyCharges  TotalCharges Churn  \n",
            "0             29.85         29.85     0  \n",
            "1             56.95        1889.5     0  \n",
            "2             53.85        108.15     1  \n",
            "3             42.30       1840.75     0  \n",
            "4             70.70        151.65     1  \n",
            "...             ...           ...   ...  \n",
            "7038          84.80        1990.5     0  \n",
            "7039         103.20        7362.9     0  \n",
            "7040          29.60        346.45     0  \n",
            "7041          74.40         306.6     1  \n",
            "7042         105.65        6844.5     0  \n",
            "\n",
            "[7043 rows x 21 columns]\n"
          ]
        }
      ]
    },
    {
      "cell_type": "code",
      "source": [
        "import pandas as pd\n",
        "from sklearn.model_selection import train_test_split\n",
        "from sklearn.preprocessing import StandardScaler\n",
        "from sklearn.ensemble import RandomForestClassifier\n",
        "from sklearn.metrics import accuracy_score, classification_report, confusion_matrix\n",
        "\n",
        "# Load the data\n",
        "df = pd.read_csv('WA_Fn-UseC_-Telco-Customer-Churn.csv')\n",
        "\n",
        "# Drop initial set of columns\n",
        "df = df.drop(columns=['customerID','PaymentMethod','Contract','PaperlessBilling','InternetService','OnlineSecurity','TechSupport','StreamingMovies','DeviceProtection','MultipleLines'])\n",
        "\n",
        "# Convert 'TotalCharges' to numeric, coercing errors and handle missing values\n",
        "df['TotalCharges'] = pd.to_numeric(df['TotalCharges'], errors='coerce')\n",
        "df.dropna(inplace=True)\n",
        "\n",
        "# Ensure binary columns are mapped to numerical values\n",
        "binary_cols=['gender','Partner','Dependents','PhoneService','OnlineBackup','StreamingTV','Churn']\n",
        "for col in binary_cols:\n",
        "    if df[col].dtype == 'object':\n",
        "        if col == 'gender':\n",
        "            df[col] = df[col].map({'Female':0,'Male':1})\n",
        "        elif col == 'Churn':\n",
        "             df[col] = df[col].map({'Yes':1,'No':0})\n",
        "        else:\n",
        "            df[col] = df[col].map({'Yes':1,'No':0, 'No internet service': 0, 'No phone service': 0}) # Handle other binary-like columns\n",
        "\n",
        "\n",
        "# Identify remaining object type columns\n",
        "object_cols = df.select_dtypes(include='object').columns\n",
        "\n",
        "# Apply one-hot encoding to the remaining object type columns\n",
        "df = pd.get_dummies(df, columns=object_cols, drop_first=True)\n",
        "\n",
        "\n",
        "# Separate features (X) and target (y)\n",
        "x = df.drop(columns='Churn')\n",
        "y = df['Churn']\n",
        "\n",
        "# Split data into training and testing sets\n",
        "x_train, x_test, y_train, y_test = train_test_split(x, y, test_size=0.2, random_state=42)\n",
        "\n",
        "# Initialize and train the RandomForestClassifier model\n",
        "model = RandomForestClassifier(n_estimators=1000, random_state=42)\n",
        "model.fit(x_train, y_train)\n",
        "\n",
        "# Make predictions and evaluate the model\n",
        "pred = model.predict(x_test)\n",
        "print(\"The accuracy is:\", accuracy_score(y_test, pred))\n",
        "print(\"Classification Report:\\n\", classification_report(y_test, pred))\n",
        "print(\"Confusion Matrix:\\n\", confusion_matrix(y_test, pred))"
      ],
      "metadata": {
        "colab": {
          "base_uri": "https://localhost:8080/"
        },
        "id": "gHdencAVg5WS",
        "outputId": "5250c9d9-36c1-4d0c-93e2-efc4e6affec0"
      },
      "execution_count": 47,
      "outputs": [
        {
          "output_type": "stream",
          "name": "stdout",
          "text": [
            "The accuracy is: 0.7768301350390903\n",
            "Classification Report:\n",
            "               precision    recall  f1-score   support\n",
            "\n",
            "           0       0.82      0.89      0.85      1033\n",
            "           1       0.61      0.46      0.52       374\n",
            "\n",
            "    accuracy                           0.78      1407\n",
            "   macro avg       0.71      0.68      0.69      1407\n",
            "weighted avg       0.76      0.78      0.77      1407\n",
            "\n",
            "Confusion Matrix:\n",
            " [[921 112]\n",
            " [202 172]]\n"
          ]
        }
      ]
    }
  ]
}